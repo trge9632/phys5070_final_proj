{
 "cells": [
  {
   "cell_type": "code",
   "execution_count": null,
   "id": "e87bd849",
   "metadata": {},
   "outputs": [],
   "source": [
    "# For simplicity, this will only cover S-type orbits of a single planet about a binary star system.\n",
    "# The planet will be of negligible mass."
   ]
  },
  {
   "cell_type": "code",
   "execution_count": null,
   "id": "ee5f9797",
   "metadata": {},
   "outputs": [],
   "source": []
  }
 ],
 "metadata": {
  "kernelspec": {
   "display_name": "Python 3 (ipykernel)",
   "language": "python",
   "name": "python3"
  },
  "language_info": {
   "codemirror_mode": {
    "name": "ipython",
    "version": 3
   },
   "file_extension": ".py",
   "mimetype": "text/x-python",
   "name": "python",
   "nbconvert_exporter": "python",
   "pygments_lexer": "ipython3",
   "version": "3.9.9"
  }
 },
 "nbformat": 4,
 "nbformat_minor": 5
}
