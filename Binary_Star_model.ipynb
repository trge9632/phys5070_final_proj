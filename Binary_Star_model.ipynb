{
 "cells": [
  {
   "cell_type": "code",
   "execution_count": null,
   "id": "e87bd849",
   "metadata": {},
   "outputs": [],
   "source": [
    "# For simplicity, this will only cover some orbits of a single planet about a binary star system.\n",
    "# The planet will be of negligible mass. The initial calculations for the eqns. of motion will\n",
    "# also be ommitted, for simplicity."
   ]
  },
  {
   "cell_type": "code",
   "execution_count": null,
   "id": "f41ab149",
   "metadata": {},
   "outputs": [],
   "source": [
    "import numpy as np\n",
    "import matplotlib.pyplot as plt\n",
    "import pandas as pd\n",
    "import matplotlib\n",
    "import scipy.constants as spc\n",
    "import scipy.integrate as spi\n",
    "import matplotlib.animation as animation\n",
    "from collections import deque\n",
    "from vpython import *"
   ]
  },
  {
   "cell_type": "code",
   "execution_count": null,
   "id": "5f277945",
   "metadata": {},
   "outputs": [],
   "source": [
    "# adding constants\n",
    "m = 6e24 # planet mass\n",
    "M = 2e30 # solar mass (both are the same)\n",
    "G = spc.G # gravitational constant\n",
    "\n",
    "R = 2.5e10 # radius of solar orbit (1/2 dist between stars)\n"
   ]
  },
  {
   "cell_type": "code",
   "execution_count": null,
   "id": "f6afef4b",
   "metadata": {},
   "outputs": [],
   "source": [
    "# orbits of stars\n",
    "\n",
    "dt = 10000\n",
    "T = 2e10 # period of stars\n",
    "t = np.arange(0, T+1, dt) # time vector\n",
    "w = 2*np.pi/T\n",
    "\n",
    "X1 = np.zeros_like(t) # setting up position vectors for stars\n",
    "Y1 = np.zeros_like(t)\n",
    "\n",
    "X2 = np.zeros_like(t)\n",
    "Y2 = np.zeros_like(t)\n",
    "\n",
    "X1[0] = R # init positions of stars\n",
    "Y1[0] = 0\n",
    "X2[0] = -R\n",
    "Y2[0] = 0\n",
    "\n",
    "# generate vectors of star position\n",
    "for i in range(len(t)-1):\n",
    "    ti = t[i+1]\n",
    "    \n",
    "    X1[i+1] = R * np.cos(w * ti)\n",
    "    Y1[i+1] = R * np.sin(w * ti)\n",
    "    \n",
    "    X2[i+1] = -R * np.cos(w * ti)\n",
    "    Y2[i+1] = -R * np.sin(w * ti)\n",
    "\n"
   ]
  },
  {
   "cell_type": "code",
   "execution_count": null,
   "id": "3da91426",
   "metadata": {},
   "outputs": [],
   "source": [
    "# make everything unitless\n",
    "t = w*t\n",
    "x = x/R\n",
    "y = y/R\n",
    "X1 = X1/R\n",
    "Y1 = Y1/R\n",
    "X2 = X2/R\n",
    "Y2 = Y2/R\n",
    "\n",
    "# location of planet, relative to star 1\n",
    "r1 = np.sqrt((x - X1)**2 + (y - Y1)**2)\n",
    "\n",
    "# location of planet, relative to star 2\n",
    "r2 = np.sqrt((x - X2)**2 + (y - Y2)**2)\n",
    "\n",
    "# make unitless\n",
    "r1 = r1/R\n",
    "r2 = r2/R\n"
   ]
  }
 ],
 "metadata": {
  "kernelspec": {
   "display_name": "Python 3 (ipykernel)",
   "language": "python",
   "name": "python3"
  },
  "language_info": {
   "codemirror_mode": {
    "name": "ipython",
    "version": 3
   },
   "file_extension": ".py",
   "mimetype": "text/x-python",
   "name": "python",
   "nbconvert_exporter": "python",
   "pygments_lexer": "ipython3",
   "version": "3.9.9"
  }
 },
 "nbformat": 4,
 "nbformat_minor": 5
}
