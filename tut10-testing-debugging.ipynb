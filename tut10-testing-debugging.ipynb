{
 "cells": [
  {
   "cell_type": "markdown",
   "metadata": {
    "deletable": false,
    "editable": false,
    "nbgrader": {
     "cell_type": "markdown",
     "checksum": "24d735de616d9cb10a9ff11b80b96eed",
     "grade": false,
     "grade_id": "cell-100899e0deea9789",
     "locked": true,
     "schema_version": 3,
     "solution": false
    }
   },
   "source": [
    "# Tutorial 10: Testing, Debugging, and Documentation\n",
    "\n",
    "## PHYS 5070, Spring 2022"
   ]
  },
  {
   "cell_type": "code",
   "execution_count": null,
   "metadata": {
    "deletable": false,
    "editable": false,
    "nbgrader": {
     "cell_type": "code",
     "checksum": "a40a2121149cb7b2c98b3024967b4226",
     "grade": false,
     "grade_id": "cell-fa56075392a814a2",
     "locked": true,
     "schema_version": 3,
     "solution": false
    }
   },
   "outputs": [],
   "source": [
    "# Import cell\n",
    "%matplotlib inline\n",
    "\n",
    "import numpy as np\n",
    "import numpy.testing as npt\n",
    "import matplotlib.pyplot as plt"
   ]
  },
  {
   "cell_type": "code",
   "execution_count": null,
   "metadata": {},
   "outputs": [],
   "source": [
    "print('changing examples here, testing how nbstripout works')\n",
    "plt.plot(range(100),np.sin(range(100)))"
   ]
  },
  {
   "cell_type": "markdown",
   "metadata": {
    "deletable": false,
    "editable": false,
    "nbgrader": {
     "cell_type": "markdown",
     "checksum": "1702c3e9181df8613f195db5bc06677a",
     "grade": false,
     "grade_id": "cell-88a9750ccf640d83",
     "locked": true,
     "schema_version": 3,
     "solution": false
    }
   },
   "source": [
    "## T10.X - Programming with intent (worked example)\n",
    "\n",
    "_(Special note: as a worked example, you are encouraged to fill this in along with me in class, but you won't be graded on whether you've completed it or not.)_\n",
    "\n",
    "Let's start this tutorial with a worked example, going from start to finish on a short program while following the three rules of programming with intent:\n",
    "\n",
    "1. Documenting our code\n",
    "2. Writing clean code\n",
    "3. Testing our code\n",
    "\n",
    "Here's the exercise: we'd like to write a function `minmax()` which will __find and return both the smallest and largest elements in an array of numbers__.  Just to make it more interesting, we will _not_ use the built-in `max()` and `min()` methods, which already do part of the task for us."
   ]
  },
  {
   "cell_type": "markdown",
   "metadata": {
    "deletable": false,
    "editable": false,
    "nbgrader": {
     "cell_type": "markdown",
     "checksum": "f69ab628aacaa9548440e005cd7028bf",
     "grade": false,
     "grade_id": "cell-e284649a26022f1a",
     "locked": true,
     "schema_version": 3,
     "solution": false
    }
   },
   "source": [
    "Let's begin with design: making our intent more concrete.  We want the smallest and largest elements in a list of numbers; __what is our algorithm?__  (This is the point where we go look in books or search the web...)\n",
    "\n",
    "To save some time, I'll go through the design.  There are multiple options here, as is usually the case!  The problem here is related closely to the problem of sorting - one way to solve it is just to sort the array and then take the first and last entry.  However, this is a waste of computing: we don't need to sort the whole array, we just want two values!\n",
    "\n",
    "For this tutorial we'll adopt a simple exhaustive search algorithm known as \"linear search\".  If you want to read about more complex algorithms that do better, see [https://www.geeksforgeeks.org/maximum-and-minimum-in-an-array/](https://www.geeksforgeeks.org/maximum-and-minimum-in-an-array/).\n",
    "\n",
    "Here is the linear search algorithm:\n",
    " 1. Create two \"register\" variables, current_min and current_max.\n",
    " 2. Iterate through the array.  For each value:\n",
    "   1. If the value is below current_min, then replace current_min with it.  \n",
    "   2. If the value is above current_max, then replace current_max with it.\n"
   ]
  },
  {
   "cell_type": "markdown",
   "metadata": {
    "deletable": false,
    "editable": false,
    "nbgrader": {
     "cell_type": "markdown",
     "checksum": "6073af7f88ca068edbfb75452d7678f0",
     "grade": false,
     "grade_id": "cell-c08c037d5fd70cf5",
     "locked": true,
     "schema_version": 3,
     "solution": false
    }
   },
   "source": [
    "Now, let's implement our function.  We'll do the following steps:\n",
    "\n",
    "1. Write the function signature and docstring.\n",
    "2. Outline the algorithm in comments.\n",
    "3. Implement the code.\n",
    "4. Write some tests, and debug.\n",
    "\n",
    "Once again, to save a little time I've set up the signature and docstring for us."
   ]
  },
  {
   "cell_type": "code",
   "execution_count": null,
   "metadata": {
    "deletable": false,
    "nbgrader": {
     "cell_type": "code",
     "checksum": "e98b59b9e806ed4c30e483813737207a",
     "grade": false,
     "grade_id": "cell-5829499584e3f877",
     "locked": false,
     "schema_version": 3,
     "solution": true
    }
   },
   "outputs": [],
   "source": [
    "def minmax(search_array):\n",
    "    \"\"\"\n",
    "    Finds the min/max values in an array.\n",
    "\n",
    "    Args:\n",
    "        search_array: array to be searched.  Should be numeric.\n",
    "    \n",
    "    Returns:\n",
    "        (min, max): length-2 array of min and max values in search_array.\n",
    "        [Special case: returns None for an empty list.]\n",
    "\n",
    "    \"\"\"\n",
    "    \n",
    "    if len(search_array) == 0:\n",
    "        return None\n",
    "    \n",
    "    current_min = search_array[0]\n",
    "    current_max = search_array[0]\n",
    "    \n",
    "    # iterate through search array\n",
    "    for item in search_array:\n",
    "        # compare and replace with current_min\n",
    "        if item < current_min:\n",
    "            current_min = item\n",
    "        #compare and replace with current_max\n",
    "        if item > current_max:\n",
    "            current_max = item\n",
    "        \n",
    "            \n",
    "    return np.array([current_min, current_max])"
   ]
  },
  {
   "cell_type": "markdown",
   "metadata": {
    "deletable": false,
    "editable": false,
    "nbgrader": {
     "cell_type": "markdown",
     "checksum": "2c117854d4362d57d28e8bec81d1eefc",
     "grade": false,
     "grade_id": "cell-5dc99392b114b055",
     "locked": true,
     "schema_version": 3,
     "solution": false
    }
   },
   "source": [
    "Now we need some tests!  We'll start with short lists where it's obvious what the min/max are.  Let's just start by `print`ing the test results to see if they match our expectations."
   ]
  },
  {
   "cell_type": "code",
   "execution_count": null,
   "metadata": {
    "deletable": false,
    "nbgrader": {
     "cell_type": "code",
     "checksum": "2a422b0319b908b4acd37342777cb414",
     "grade": false,
     "grade_id": "cell-8fabb010c504b9f6",
     "locked": false,
     "schema_version": 3,
     "solution": true
    }
   },
   "outputs": [],
   "source": [
    "print(minmax([1,3,5,7]))\n",
    "print(minmax(np.arange(10)))\n",
    "print(minmax([-1,2,3]))\n",
    "print(minmax([4]))\n",
    "print(minmax([]))"
   ]
  },
  {
   "cell_type": "markdown",
   "metadata": {
    "deletable": false,
    "editable": false,
    "nbgrader": {
     "cell_type": "markdown",
     "checksum": "27ee1f053cb31882278af7696e19375b",
     "grade": false,
     "grade_id": "cell-695fc52cc6045d96",
     "locked": true,
     "schema_version": 3,
     "solution": false
    }
   },
   "source": [
    "Once that's working, we should try some more interesting or unusual cases, to make sure our program still behaves as expected.  (Some things to consider: negative numbers?  Lists of length one, or length zero?  "
   ]
  },
  {
   "cell_type": "code",
   "execution_count": null,
   "metadata": {
    "deletable": false,
    "nbgrader": {
     "cell_type": "code",
     "checksum": "384f35eaf5afe96f7a1656d72bee13f0",
     "grade": false,
     "grade_id": "cell-a6adaee8e5a071ff",
     "locked": false,
     "schema_version": 3,
     "solution": true
    }
   },
   "outputs": [],
   "source": [
    "## YOUR CODE HERE"
   ]
  },
  {
   "cell_type": "markdown",
   "metadata": {
    "deletable": false,
    "editable": false,
    "nbgrader": {
     "cell_type": "markdown",
     "checksum": "7653aa4f8072ea89681c0fb7c196cd0a",
     "grade": false,
     "grade_id": "cell-dc6aa6dd403e6900",
     "locked": true,
     "schema_version": 3,
     "solution": false
    }
   },
   "source": [
    "## T10.1 - Debugging\n",
    "\n",
    "The examples below are buggy code - they have something wrong with them!  Copy the code block into the following cell, and then test and fix each example.  You may immediately spot the mistakes, but if not, write some additional tests - both black-box and glass-box methods can be useful here."
   ]
  },
  {
   "cell_type": "markdown",
   "metadata": {
    "deletable": false,
    "editable": false,
    "nbgrader": {
     "cell_type": "markdown",
     "checksum": "7ca4627dfb56e0efd5ee316ed68a299f",
     "grade": false,
     "grade_id": "cell-ef1a54707f1eabce",
     "locked": true,
     "schema_version": 3,
     "solution": false
    }
   },
   "source": [
    "### Part A\n",
    "\n",
    "The _intent_ of the function below is to count how many odd numbers there are between 1 and n (including n itself, if n is odd.)\n",
    "\n",
    "```python\n",
    "def count_odds(n):\n",
    "    i = 0\n",
    "    while i < n:        \n",
    "        if (i % 2 == 1):\n",
    "            total += n\n",
    "        \n",
    "        i += 1\n",
    "        \n",
    "    return total\n",
    "    \n",
    "print(count_odds(6))  # 1,3,5 --> should print 3\n",
    "print(count_odds(7))  # 1,3,5,7 --> should print 4\n",
    "```"
   ]
  },
  {
   "cell_type": "code",
   "execution_count": null,
   "metadata": {
    "deletable": false,
    "nbgrader": {
     "cell_type": "code",
     "checksum": "d1d964ba2ae51283679a25cb5d56f943",
     "grade": false,
     "grade_id": "cell-22048b1dd730e627",
     "locked": false,
     "schema_version": 3,
     "solution": true
    }
   },
   "outputs": [],
   "source": [
    "def count_odds(n):\n",
    "    i = 0\n",
    "    total = 0\n",
    "    while i <= n:        \n",
    "        if (i % 2 == 1):\n",
    "            total += 1\n",
    "        \n",
    "        i += 1\n",
    "        \n",
    "    return total\n",
    "    \n",
    "print(count_odds(6))  # 1,3,5 --> should print 3\n",
    "print(count_odds(7))  # 1,3,5,7 --> should print 4\n",
    "print(count_odds(3))\n",
    "print(count_odds(2))\n",
    "print(count_odds(4))"
   ]
  },
  {
   "cell_type": "markdown",
   "metadata": {
    "deletable": false,
    "editable": false,
    "nbgrader": {
     "cell_type": "markdown",
     "checksum": "6cfb1ca9de0fb9096e4dd5a99a8ebba5",
     "grade": false,
     "grade_id": "cell-2dc1cc8c8008e909",
     "locked": true,
     "schema_version": 3,
     "solution": false
    }
   },
   "source": [
    "### Part B\n",
    "\n",
    "The _intent_ of the function below is to count how many negative numbers there are in an array, and return it.  \n",
    "\n",
    "This time it passes the test I wrote, so maybe there's nothing for you to do?  Or maybe you should write some more tests...\n",
    "\n",
    "```python\n",
    "def how_many_negative_numbers(my_array):\n",
    "    count_negative = 0\n",
    "    i = 0\n",
    "    \n",
    "    while i < len(my_array):\n",
    "        number = my_array[i]\n",
    "        if number > 0:\n",
    "            break\n",
    "        count_negative += 1\n",
    "        i += 1\n",
    "        \n",
    "    return count_negative\n",
    "\n",
    "    \n",
    "print(how_many_negative_numbers(np.array([-4, -1, 0, 7, -3])))\n",
    "# prints 3, so the code works...right?\n",
    "\n",
    "```"
   ]
  },
  {
   "cell_type": "code",
   "execution_count": null,
   "metadata": {
    "deletable": false,
    "nbgrader": {
     "cell_type": "code",
     "checksum": "4182f82a260fdd136e0a5f4a6fcbd40d",
     "grade": false,
     "grade_id": "cell-553d01e34b5c25e1",
     "locked": false,
     "schema_version": 3,
     "solution": true
    }
   },
   "outputs": [],
   "source": [
    "def how_many_negative_numbers(my_array):\n",
    "    count_negative = 0\n",
    "    i = 0\n",
    "\n",
    "    if len(my_array) == 0:\n",
    "        return 'Array has no entries!'\n",
    "    \n",
    "    while i < len(my_array):\n",
    "        number = my_array[i]\n",
    "        if number < 0:\n",
    "            count_negative += 1\n",
    "        i += 1\n",
    "\n",
    "    return count_negative\n",
    "\n",
    "\n",
    "print(how_many_negative_numbers(np.array([-4, -1, 0, 7, -3])))\n",
    "print(how_many_negative_numbers(np.array([-3, -3, -5, -2, 0, 0, 2, -20])))\n",
    "print(how_many_negative_numbers(np.array([0, 2, 5, 69, 43, 100])))\n",
    "print(how_many_negative_numbers(np.array([])))"
   ]
  },
  {
   "cell_type": "markdown",
   "metadata": {},
   "source": [
    "### Part C\n",
    "\n",
    "The _intent_ of the code below is to calculate the total kinetic energy of a collection of particles moving in two dimensions.  The input list is assumed to contain entries of the form `[m, (vx, vy)]`.\n",
    "\n",
    "```python\n",
    "# This list might be useful to test with...\n",
    "# should give zero KE, since speed is zero.\n",
    "# But you should do more tests where speed matters!\n",
    "test_mv_list = [\n",
    "    (1.0, (0.0, 0.0))\n",
    "]\n",
    "\n",
    "def total_KE(mv_list):\n",
    "    \"\"\"\n",
    "    Computes the total kinetic energy from a list of masses and 2d velocity vectors.\n",
    "    \n",
    "    Arguments:\n",
    "    - mv_list: list of tuples in the form (m, (vx, vy))\n",
    "\n",
    "    Returns:\n",
    "    - total_KE: total kinetic energy of mv_list (float)\n",
    "    \"\"\"\n",
    "    \n",
    "    total_KE = 0.0\n",
    "    \n",
    "    for m, vx, vy in mv_list:\n",
    "        speed_sq = vx^2 + vy^2\n",
    "        total_KE = 0.5 * m * speed_sq\n",
    "        \n",
    "    return total_KE\n",
    "\n",
    "```"
   ]
  },
  {
   "cell_type": "code",
   "execution_count": null,
   "metadata": {
    "deletable": false,
    "nbgrader": {
     "cell_type": "code",
     "checksum": "c49e8d2409814e6b99d001dc2203150b",
     "grade": false,
     "grade_id": "cell-740806aa139ed448",
     "locked": false,
     "schema_version": 3,
     "solution": true,
     "task": false
    }
   },
   "outputs": [],
   "source": [
    "test_mv_list = [\n",
    "    (1.0, (0.0, 0.0))\n",
    "]\n",
    "\n",
    "def total_KE(mv_list):\n",
    "    \"\"\"\n",
    "    Computes the total kinetic energy from a list of masses and 2d velocity vectors.\n",
    "\n",
    "    Arguments:\n",
    "    - mv_list: list of tuples in the form (m, (vx, vy))\n",
    "\n",
    "    Returns:\n",
    "    - total_KE: total kinetic energy of mv_list (float)\n",
    "    \"\"\"\n",
    "\n",
    "    total_KE = 0.0\n",
    "\n",
    "    for m, (vx, vy) in mv_list:\n",
    "        speed_sq = vx**2 + vy**2\n",
    "        total_KE = 0.5 * m * speed_sq\n",
    "\n",
    "    return total_KE\n",
    "\n",
    "\n",
    "\n",
    "print(total_KE(test_mv_list))\n",
    "print(total_KE([(1.0, (2.0, 3.0))]))"
   ]
  },
  {
   "cell_type": "markdown",
   "metadata": {
    "deletable": false,
    "editable": false,
    "nbgrader": {
     "cell_type": "markdown",
     "checksum": "8008b5ed057d60a0fd97bdebdc5be20b",
     "grade": false,
     "grade_id": "cell-f04a667907984113",
     "locked": true,
     "schema_version": 3,
     "solution": false
    }
   },
   "source": [
    "\n",
    "## T10.2 - Range-finding and test-driven development\n",
    "\n",
    "Your turn to program an algorithm _with intent_, and debug it!  Suppose we're writing a simulation of two-dimensional ballistics, i.e. the motion of projectiles under the influence of gravity.  For simplicity, let's assume our projectile always starts at $(0,0)$, and is released with initial launch speed $v_0$ at angle $\\theta$ from the horizontal.  \n",
    "\n",
    "In our full simulation, we'll be including air resistance so that the solution cannot be found analytically.  As one part of the full simulation package, your advisor has instructed you to implement a function `find_range(x,y)`, which will take two arrays `x` and `y` containing the trajectory and use them to find the __range of the projectile__, i.e. the value of $x$ at which it comes back to the ground ($y=0$.)\n",
    "\n",
    "An ideal test case here will just be to write a function that will solve for the trajectory without air resistance, where we know the answer analytically.  In this case, the trajectory will be\n",
    "\n",
    "$$\n",
    "x(t) = (v_0 \\cos \\theta) t \\\\\n",
    "y(t) = (v_0 \\sin \\theta) t - \\frac{1}{2} g t^2 \\\\\n",
    "$$\n",
    "and the range is\n",
    "$$\n",
    "R = \\frac{v_0^2}{g} \\sin (2\\theta).\n",
    "$$\n",
    "\n",
    "In the cell below, I've provided a function that will create the trajectory arrays given starting values for $v_0$ and $\\theta$, as well as a NumPy array for $t$.  I've also provided a function that will make a plot of the trajectory and the ground for you."
   ]
  },
  {
   "cell_type": "code",
   "execution_count": null,
   "metadata": {
    "deletable": false,
    "editable": false,
    "nbgrader": {
     "cell_type": "code",
     "checksum": "bf1826236ecc47525d7b231898d225a2",
     "grade": false,
     "grade_id": "cell-38386e1216a404b0",
     "locked": true,
     "schema_version": 3,
     "solution": false
    }
   },
   "outputs": [],
   "source": [
    "def get_traj(t, v0, theta, convert_deg=True):\n",
    "    g = 9.8  # m/s^2\n",
    "    \n",
    "    if convert_deg:\n",
    "        theta = theta * np.pi / 180\n",
    "        \n",
    "    x_traj = v0 * np.cos(theta) * t\n",
    "    y_traj = v0 * np.sin(theta) * t - 0.5 * g * t**2\n",
    "    \n",
    "    return (x_traj, y_traj)\n",
    "\n",
    "def plot_traj(x,y):\n",
    "    plt.plot(x, y, color='blue')\n",
    "    plt.axhline(0, color='red')\n",
    "    \n",
    "\n",
    "# Create array of t-values for trajectory\n",
    "t = np.linspace(0, 5, 100)\n",
    "\n",
    "x_traj, y_traj = get_traj(t, 30, 45)\n",
    "\n",
    "plot_traj(x_traj, y_traj)\n"
   ]
  },
  {
   "cell_type": "markdown",
   "metadata": {
    "deletable": false,
    "editable": false,
    "nbgrader": {
     "cell_type": "markdown",
     "checksum": "4d396e0252aa7f658c5460b0a81339a4",
     "grade": false,
     "grade_id": "cell-7ff7e743c7830d1a",
     "locked": true,
     "schema_version": 3,
     "solution": false
    }
   },
   "source": [
    "### Part A\n",
    "\n",
    "First, a simple test by eye: in the cell below, use the $R$ formula to compute the expected range for the parameters I used above.  Then compare to the plot above and verify that it looks right!  (You can also try adding the expected range to the plot as another line using `plt.axvline`, which will draw a vertical line similarly to the horizontal line I drew above.)"
   ]
  },
  {
   "cell_type": "code",
   "execution_count": null,
   "metadata": {
    "deletable": false,
    "nbgrader": {
     "cell_type": "code",
     "checksum": "0fcee1bcaa4483085052e81373309616",
     "grade": false,
     "grade_id": "cell-679d623c5b711605",
     "locked": false,
     "schema_version": 3,
     "solution": true,
     "task": false
    }
   },
   "outputs": [],
   "source": [
    "## YOUR CODE HERE"
   ]
  },
  {
   "cell_type": "markdown",
   "metadata": {},
   "source": [
    "### Part B\n",
    "\n",
    "Let's approach this problem using the technique of __test-driven development__, or TDD.  Before we even consider writing the `find_range()` function, let's try to come up with and write some test cases.  We'll use the `numpy.testing` module to make them automatic, and we'll also use the `try`-`except` keywords to allow us to run the tests all at once.  \n",
    "\n",
    "For example, a trivial test case is that if the angle is 90 degrees, the range should be zero (because the entire trajectory $x(t)$ will be zero, so this is hard to mess up!)  Here's my test function:"
   ]
  },
  {
   "cell_type": "code",
   "execution_count": null,
   "metadata": {
    "deletable": false,
    "editable": false,
    "nbgrader": {
     "cell_type": "code",
     "checksum": "5eefa625b9fca4bbaf2d737837297e0b",
     "grade": false,
     "grade_id": "cell-50cc43f9b34d754a",
     "locked": true,
     "schema_version": 3,
     "solution": false,
     "task": false
    }
   },
   "outputs": [],
   "source": [
    "def test_range_90deg():\n",
    "    try:\n",
    "        t = np.linspace(0,5,1000)\n",
    "        x, y = get_traj(t, 30, 90)\n",
    "        R = find_range(x, y)\n",
    "        \n",
    "        npt.assert_allclose(R, 0.0, atol=1e-6)\n",
    "        print(\"Test test_range_90deg successful!\")\n",
    "    except Exception as e:\n",
    "        print(\"Test test_range_90deg failed!\")\n",
    "        print(\"Error message: \", e)\n",
    "        \n",
    "test_range_90deg()"
   ]
  },
  {
   "cell_type": "markdown",
   "metadata": {
    "deletable": false,
    "editable": false,
    "nbgrader": {
     "cell_type": "markdown",
     "checksum": "776e73b9fb97d25ad22f23d063afa87f",
     "grade": false,
     "grade_id": "cell-950158f294805075",
     "locked": true,
     "schema_version": 3,
     "solution": false,
     "task": false
    }
   },
   "source": [
    "Right now the test fails - as it should, because we haven't even written the function `find_range()` yet!  But we expect that once the function is implemented, if everything is correct then the test case should succeed.\n",
    "\n",
    "In the cell below, __implement two more test cases:__\n",
    "\n",
    "1. Any time we do a successful test by hand, it can be useful to automate it!  Complete `test_range_45deg()`, which should run the same test that you did in part A for a projectile launched at 45 degrees.\n",
    "2. 45 degrees is sort of a special case - to make sure there is no unexpected angular dependence in what we're doing, let's try a much higher angle, `test_range_80deg()`.\n",
    "\n",
    "If you feel ambitious, you can write more test cases.  Important _edge cases_ that are probably worth checking include $v_0 = 0$ and $\\theta = 0$.  (In either case, you probably want the range function to return 0.)  We could also implement a test case for what happens when the $t$ array is too short, and as a result the projectile never reaches the ground - although the behavior here will depend on what you decide `find_range()` should do in this special case."
   ]
  },
  {
   "cell_type": "code",
   "execution_count": null,
   "metadata": {
    "deletable": false,
    "nbgrader": {
     "cell_type": "code",
     "checksum": "38b3648532d701988ac557543bde6913",
     "grade": false,
     "grade_id": "cell-5e7608653698e08d",
     "locked": false,
     "schema_version": 3,
     "solution": true,
     "task": false
    }
   },
   "outputs": [],
   "source": [
    "def test_range_45deg():\n",
    "    try:\n",
    "        ## YOUR CODE HERE\n",
    "        \n",
    "        print(\"Test test_range_45deg successful!\")\n",
    "    except Exception as e:\n",
    "        print(\"Test test_range_45deg failed!\")\n",
    "        print(\"Error message: \", e)\n",
    "\n",
    "def test_range_80deg():\n",
    "    try:\n",
    "        ## YOUR CODE HERE\n",
    "        print(\"Test test_range_80deg successful!\")\n",
    "    except Exception as e:\n",
    "        print(\"Test test_range_80deg failed!\")\n",
    "        print(\"Error message: \", e)"
   ]
  },
  {
   "cell_type": "markdown",
   "metadata": {
    "deletable": false,
    "editable": false,
    "nbgrader": {
     "cell_type": "markdown",
     "checksum": "b077393c193c43159e38b0c5d14d0118",
     "grade": false,
     "grade_id": "cell-0e83971a97f3b24b",
     "locked": true,
     "schema_version": 3,
     "solution": false,
     "task": false
    }
   },
   "source": [
    "### Part C\n",
    "\n",
    "Now we finally come to implementing the range funciton.  Let's begin with design: making our intent more concrete.  __What is our algorithm for finding the range?__  This is a trickier question than you might think: we can't just try to find points where `y=0`, because due to the finite amount of time steps we have, `y` will only get _close_ to zero, but never actually reach it.  What we want is the _closest_ point to `y=0`.  But we don't just want the `y`-value, we want the `x`-value.\n",
    "\n",
    "So here's a simple algorithm:\n",
    "\n",
    "1. Start with the trajectory as a pair of arrays `x` and `y`, containing the $(x,y)$ coordinates in order.\n",
    "2. Find the _index of_ the entry in the array `y` which is closest to 0.\n",
    "3. The range is the `x` value _at the same index_.\n",
    "\n",
    "If we look at the NumPy documentation, we'll find a couple functions that might be useful:\n",
    "- `np.min` gives the smallest value in an array.\n",
    "- `np.argmin` works similarly, but gives the _index_ of the smallest value in an array.\n",
    "\n",
    "Here's a short example of usage:"
   ]
  },
  {
   "cell_type": "code",
   "execution_count": null,
   "metadata": {},
   "outputs": [],
   "source": [
    "a = np.array([3,4,1,5])\n",
    "print(np.min(a))\n",
    "i = np.argmin(a)\n",
    "print(\"Index of min(a) = \", i, \"; a[i] = \", a[i])"
   ]
  },
  {
   "cell_type": "markdown",
   "metadata": {
    "deletable": false,
    "editable": false,
    "nbgrader": {
     "cell_type": "markdown",
     "checksum": "5318799f843786e50fbc158ed0269b0e",
     "grade": false,
     "grade_id": "cell-368c1f34a969a0a4",
     "locked": true,
     "schema_version": 3,
     "solution": false
    }
   },
   "source": [
    "Since this is a tutorial, I'll provide the docstring for you this time - you provide the comments and the code!"
   ]
  },
  {
   "cell_type": "code",
   "execution_count": null,
   "metadata": {
    "deletable": false,
    "nbgrader": {
     "cell_type": "code",
     "checksum": "e3a683d1930fb3fe662ee28cd13eed9e",
     "grade": false,
     "grade_id": "cell-b4d1b8009757cc1e",
     "locked": false,
     "schema_version": 3,
     "solution": true
    }
   },
   "outputs": [],
   "source": [
    "def find_range(x,y):\n",
    "    \"\"\"\n",
    "    Given a ballistic trajectory (x,y), finds the range R,\n",
    "    which is the x-value away from the origin closest to\n",
    "    where the trajectory crosses y=0.\n",
    "    \n",
    "    Arguments:\n",
    "    =====\n",
    "    x,y: arrays of coordinates describing a ballistic trajectory.\n",
    "    (Must be the same length!)\n",
    "        \n",
    "    Returns:\n",
    "    =====    \n",
    "    R: the range of the projectile.\n",
    "    \n",
    "    \"\"\"\n",
    "    \n",
    "    \n",
    "    ## YOUR CODE HERE\n",
    "    \n",
    "    "
   ]
  },
  {
   "cell_type": "markdown",
   "metadata": {
    "deletable": false,
    "editable": false,
    "nbgrader": {
     "cell_type": "markdown",
     "checksum": "723809e1243817f9aea66ff4379cdb19",
     "grade": false,
     "grade_id": "cell-f6bd24c5e50917e5",
     "locked": true,
     "schema_version": 3,
     "solution": false,
     "task": false
    }
   },
   "source": [
    "Now run the test cases in the cell below, and make sure everything passes!  \n",
    "\n",
    "_Note:_ if a test fails, __look carefully at the output__, and you may need to make plots again.  In this situation the tests are a bit complicated, and it's entirely possible for your test to fail due to the details of the test function, instead of due to find_range itself being broken.  Common things to check: did you run the solution for enough time to hit the ground again?  Are you using enough points in your arrays to satisfy the precision that you're doing the test with?"
   ]
  },
  {
   "cell_type": "code",
   "execution_count": null,
   "metadata": {
    "deletable": false,
    "editable": false,
    "nbgrader": {
     "cell_type": "code",
     "checksum": "0f94d909b9fe1c102af3d8fb7bb01403",
     "grade": false,
     "grade_id": "cell-5f95f1c4c6d9a29b",
     "locked": true,
     "schema_version": 3,
     "solution": false,
     "task": false
    }
   },
   "outputs": [],
   "source": [
    "test_range_90deg()\n",
    "test_range_45deg()\n",
    "test_range_80deg()"
   ]
  }
 ],
 "metadata": {
  "kernelspec": {
   "display_name": "Python 3 (ipykernel)",
   "language": "python",
   "name": "python3"
  },
  "language_info": {
   "codemirror_mode": {
    "name": "ipython",
    "version": 3
   },
   "file_extension": ".py",
   "mimetype": "text/x-python",
   "name": "python",
   "nbconvert_exporter": "python",
   "pygments_lexer": "ipython3",
   "version": "3.9.9"
  }
 },
 "nbformat": 4,
 "nbformat_minor": 2
}
