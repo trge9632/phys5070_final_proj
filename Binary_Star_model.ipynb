{
 "cells": [
  {
   "cell_type": "code",
   "execution_count": null,
   "id": "e87bd849",
   "metadata": {},
   "outputs": [],
   "source": [
    "# For simplicity, this will only cover some orbits of a single planet about a binary star system.\n",
    "# The planet will be of negligible mass. The initial calculations for the eqns. of motion will\n",
    "# also be ommitted, for simplicity."
   ]
  },
  {
   "cell_type": "code",
   "execution_count": null,
   "id": "f41ab149",
   "metadata": {},
   "outputs": [],
   "source": [
    "import numpy as np\n",
    "import matplotlib.pyplot as plt\n",
    "import pandas as pd\n",
    "import matplotlib\n",
    "import scipy.constants as spc\n",
    "import scipy.integrate as spi\n",
    "from vpython import *"
   ]
  },
  {
   "cell_type": "code",
   "execution_count": null,
   "id": "5f277945",
   "metadata": {},
   "outputs": [],
   "source": [
    "# adding constants\n",
    "m = 6e24 # planet mass\n",
    "M = 2e30 # solar mass (both are the same)\n",
    "G = spc.G # gravitational constant\n",
    "\n",
    "R = 2.5e10 # radius of solar orbit (1/2 dist between stars)\n"
   ]
  },
  {
   "cell_type": "code",
   "execution_count": null,
   "id": "f6afef4b",
   "metadata": {},
   "outputs": [],
   "source": [
    "# orbits of stars\n",
    "\n",
    "dt = 10000\n",
    "T = 2e10 # period of stars\n",
    "t = np.arange(0, T+1, dt) # time vector\n",
    "w = 2*np.pi/T\n",
    "\n",
    "X1 = np.zeros_like(t) # setting up position vectors for stars\n",
    "Y1 = np.zeros_like(t)\n",
    "\n",
    "X2 = np.zeros_like(t)\n",
    "Y2 = np.zeros_like(t)\n",
    "\n",
    "X1[0] = R # init positions of stars\n",
    "Y1[0] = 0\n",
    "X2[0] = -R\n",
    "Y2[0] = 0\n",
    "\n",
    "# generate vectors of star position\n",
    "for i in range(len(t)-1):\n",
    "    ti = t[i+1]\n",
    "    \n",
    "    X1[i+1] = R * np.cos(w * ti)\n",
    "    Y1[i+1] = R * np.sin(w * ti)\n",
    "    \n",
    "    X2[i+1] = -R * np.cos(w * ti)\n",
    "    Y2[i+1] = -R * np.sin(w * ti)\n",
    "\n"
   ]
  },
  {
   "cell_type": "code",
   "execution_count": null,
   "id": "1b443099",
   "metadata": {},
   "outputs": [],
   "source": [
    "plt.plot(t,X1)\n",
    "plt.plot(t,Y1)"
   ]
  },
  {
   "cell_type": "code",
   "execution_count": null,
   "id": "3eddaa02",
   "metadata": {},
   "outputs": [],
   "source": [
    "plt.plot(t,X2)\n",
    "plt.plot(t,Y2)"
   ]
  },
  {
   "cell_type": "code",
   "execution_count": null,
   "id": "f21741b4",
   "metadata": {},
   "outputs": [],
   "source": [
    "# Yay! My stars' orbits work!"
   ]
  },
  {
   "cell_type": "code",
   "execution_count": null,
   "id": "fc1d12cf",
   "metadata": {},
   "outputs": [],
   "source": [
    "def orbit_solve(x0,y0,vx0,vy0):\n",
    "    dt = 10000\n",
    "    T = 2e10 # period of stars\n",
    "    t = np.arange(0, T+1, dt) # time vector\n",
    "    w = 2*np.pi/T\n",
    "\n",
    "    X1 = np.zeros_like(t) # setting up position vectors for stars\n",
    "    Y1 = np.zeros_like(t)\n",
    "\n",
    "    X2 = np.zeros_like(t)\n",
    "    Y2 = np.zeros_like(t)\n",
    "\n",
    "    X1[0] = R # init positions of stars\n",
    "    Y1[0] = 0\n",
    "    X2[0] = -R\n",
    "    Y2[0] = 0\n",
    "\n",
    "    # generate vectors of star position\n",
    "    for i in range(len(t)-1):\n",
    "        ti = t[i+1]\n",
    "    \n",
    "        X1[i+1] = R * np.cos(w * ti)\n",
    "        Y1[i+1] = R * np.sin(w * ti)\n",
    "    \n",
    "        X2[i+1] = -R * np.cos(w * ti)\n",
    "        Y2[i+1] = -R * np.sin(w * ti)\n",
    "    \n",
    "    x = np.zeros_like(t)\n",
    "    y = np.zeros_like(x)\n",
    "    vx = np.zeros_like(x)\n",
    "    vy = np.zeros_like(x)\n",
    "    \n",
    "    x[0] = x0; y[0] = y0\n",
    "    vx[0] = vx0; vy[0] = vy0\n",
    "    \n",
    "    # make everything unitless\n",
    "    t = w*t; x = x/R; y = y/R; X1 = X1/R;\n",
    "    Y1 = Y1/R; X2 = X2/R; Y2 = Y2/R\n",
    "    \n",
    "    \n",
    "    #RK2 implementation\n",
    "    for i in range(len(t)-1):\n",
    "        # location of planet, relative to star 1 (unitless)\n",
    "        r1 = np.sqrt((x[i] - X1[i])**2 + (y[i] - Y1[i])**2)/R\n",
    "\n",
    "        # location of planet, relative to star 2 (unitless)\n",
    "        r2 = np.sqrt((x[i] - X2[i])**2 + (y[i] - Y2[i])**2)/R\n",
    "        \n",
    "        k1x = R * vx[i] * dt\n",
    "        k1vx = -( (x[i]-X1[i])/r1**3 - (x[i]-X2[i])/r2**3 ) * dt\n",
    "        \n",
    "        k2x = dt * (R*vx[i] + k1x/2)\n",
    "        k2vx = dt * ((-( (x[i]-X1[i])/r1**3 - (x[i]-X2[i])/r2**3 )) + k1vx/2)\n",
    "        \n",
    "        x[i+1] = x[i] + k2x\n",
    "        vx[i+1] = vx[i] + k2vx\n",
    "        \n",
    "        k1y = R * vy[i] * dt\n",
    "        k1vy = -( (y[i]-Y1[i])/r1**3 - (y[i]-Y2[i])/r2**3 ) * dt\n",
    "        \n",
    "        k2y = dt * (R*vy[i] + k1y/2)\n",
    "        k2vy = dt * ((-( (y[i]-Y1[i])/r1**3 - (y[i]-Y2[i])/r2**3 )) + k1vy/2)\n",
    "        \n",
    "        y[i+1] = y[i] + k2y\n",
    "        vy[i+1] = vy[i] + k2vy\n",
    "        \n",
    "        return x, y\n",
    "\n",
    "    "
   ]
  },
  {
   "cell_type": "code",
   "execution_count": null,
   "id": "d4d9a234",
   "metadata": {},
   "outputs": [],
   "source": [
    "xpos, ypos = orbit_solve(12*R, 0, -2*R*w, 0)"
   ]
  },
  {
   "cell_type": "code",
   "execution_count": null,
   "id": "a80063d7",
   "metadata": {},
   "outputs": [],
   "source": [
    "plt.plot(t,xpos)\n",
    "plt.plot(t,ypos)"
   ]
  },
  {
   "cell_type": "code",
   "execution_count": null,
   "id": "61324827",
   "metadata": {},
   "outputs": [],
   "source": [
    "# My RK2 solver obviously doesn't work... You can see how late I stayed up trying to get it working.\n",
    "# I realize that I didn't really use the git function like it was supposed to be used,\n",
    "# as I did a lot of work without committing, then just shoved a bunch of the stuff I was testing in my\n",
    "# jupyter notebook."
   ]
  }
 ],
 "metadata": {
  "kernelspec": {
   "display_name": "Python 3 (ipykernel)",
   "language": "python",
   "name": "python3"
  },
  "language_info": {
   "codemirror_mode": {
    "name": "ipython",
    "version": 3
   },
   "file_extension": ".py",
   "mimetype": "text/x-python",
   "name": "python",
   "nbconvert_exporter": "python",
   "pygments_lexer": "ipython3",
   "version": "3.9.9"
  }
 },
 "nbformat": 4,
 "nbformat_minor": 5
}
