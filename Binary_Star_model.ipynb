{
 "cells": [
  {
   "cell_type": "code",
   "execution_count": null,
   "id": "e87bd849",
   "metadata": {},
   "outputs": [],
   "source": [
    "# For simplicity, this will only cover some orbits of a single planet about a binary star system.\n",
    "# The planet will be of negligible mass. The initial calculations for the eqns. of motion will\n",
    "# also be ommitted, for simplicity."
   ]
  },
  {
   "cell_type": "code",
   "execution_count": null,
   "id": "4de820a1",
   "metadata": {},
   "outputs": [],
   "source": [
    "import numpy as np\n",
    "import matplotlib.pyplot as plt\n",
    "import pandas as pd\n",
    "import matplotlib\n",
    "import scipy.constants as spc"
   ]
  },
  {
   "cell_type": "code",
   "execution_count": null,
   "id": "807b6407",
   "metadata": {},
   "outputs": [],
   "source": [
    "# adding constants\n",
    "m = 6e24 # planet mass\n",
    "M = 2e30 # solar mass (both are the same)\n",
    "G = spc.G # gravitational constant\n",
    "\n",
    "R = 2e10 # radius of solar orbit (dist between stars)"
   ]
  },
  {
   "cell_type": "code",
   "execution_count": null,
   "id": "a5378fac",
   "metadata": {},
   "outputs": [],
   "source": []
  }
 ],
 "metadata": {
  "kernelspec": {
   "display_name": "Python 3 (ipykernel)",
   "language": "python",
   "name": "python3"
  },
  "language_info": {
   "codemirror_mode": {
    "name": "ipython",
    "version": 3
   },
   "file_extension": ".py",
   "mimetype": "text/x-python",
   "name": "python",
   "nbconvert_exporter": "python",
   "pygments_lexer": "ipython3",
   "version": "3.9.9"
  }
 },
 "nbformat": 4,
 "nbformat_minor": 5
}
